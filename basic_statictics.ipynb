{
  "nbformat": 4,
  "nbformat_minor": 0,
  "metadata": {
    "colab": {
      "name": "basic_statictics.ipynb",
      "provenance": [],
      "collapsed_sections": []
    },
    "kernelspec": {
      "name": "python3",
      "display_name": "Python 3"
    },
    "language_info": {
      "name": "python"
    }
  },
  "cells": [
    {
      "cell_type": "code",
      "execution_count": 1,
      "metadata": {
        "id": "Vu1Myq9TgQ9P"
      },
      "outputs": [],
      "source": [
        "#data created\n",
        "data = [19,45,18,30,30,35,45,22,27,29,52,21]"
      ]
    },
    {
      "cell_type": "markdown",
      "source": [
        "a) Range\n",
        "$$Range = max_{value} - min_{value}$$"
      ],
      "metadata": {
        "id": "-zO6NBvVgyG7"
      }
    },
    {
      "cell_type": "code",
      "source": [
        "def get_range(data):\n",
        "  min_value = min(data)\n",
        "  max_value = max(data)\n",
        "  return (max_value - min_value)"
      ],
      "metadata": {
        "id": "1JgunbvzguwA"
      },
      "execution_count": 2,
      "outputs": []
    },
    {
      "cell_type": "code",
      "source": [
        "range_data = get_range(data)\n",
        "print(f'The range of the dataset is: {range_data} \\n')"
      ],
      "metadata": {
        "colab": {
          "base_uri": "https://localhost:8080/"
        },
        "id": "iPbPIQLejSKn",
        "outputId": "d4b0504a-cc0d-4abc-e59d-c1b378e9e789"
      },
      "execution_count": 3,
      "outputs": [
        {
          "output_type": "stream",
          "name": "stdout",
          "text": [
            "The range of the dataset is: 34 \n",
            "\n"
          ]
        }
      ]
    },
    {
      "cell_type": "markdown",
      "source": [
        "b) Mean\n",
        "\n",
        "$$ \\hat{X} = \\frac{\\sum_{i = 1}^{n}{x_{i}}}{n}$$"
      ],
      "metadata": {
        "id": "GnA2-JLMhO1H"
      }
    },
    {
      "cell_type": "code",
      "source": [
        "def get_mean(data):\n",
        "  s = 0\n",
        "  for i in data:\n",
        "    s = s + i\n",
        "  return s/len(data)"
      ],
      "metadata": {
        "id": "l2jvHYL8hBte"
      },
      "execution_count": 4,
      "outputs": []
    },
    {
      "cell_type": "code",
      "source": [
        "mean = get_mean(data)\n",
        "print(\"The mean of the dataset is: {}\".format(round(mean,2)))"
      ],
      "metadata": {
        "colab": {
          "base_uri": "https://localhost:8080/"
        },
        "id": "c15MiwpvhxCN",
        "outputId": "1ef99410-705a-4a8b-f288-72564bc5eca3"
      },
      "execution_count": 5,
      "outputs": [
        {
          "output_type": "stream",
          "name": "stdout",
          "text": [
            "The mean of the dataset is: 31.08\n"
          ]
        }
      ]
    },
    {
      "cell_type": "markdown",
      "source": [
        "c) Variance\n",
        "$$ \\sigma^{2} = \\frac{ \\sum_{i = 1}^{n}{ (x_{i} - μ)^{2}}}{N}  $$"
      ],
      "metadata": {
        "id": "1ieWDcEoVkUA"
      }
    },
    {
      "cell_type": "code",
      "source": [
        "def get_variance(data):\n",
        "  mean = get_mean(data)\n",
        "  s = 0\n",
        "  for j in data:\n",
        "    diff = (j - mean)**2\n",
        "    s = s + diff\n",
        "  return s/len(data)"
      ],
      "metadata": {
        "id": "-k7PUhfnjxYW"
      },
      "execution_count": 6,
      "outputs": []
    },
    {
      "cell_type": "code",
      "source": [
        "variance = get_variance(data)\n",
        "print(\"The variance of dataset is: {}\".format(round(variance,2)))"
      ],
      "metadata": {
        "colab": {
          "base_uri": "https://localhost:8080/"
        },
        "id": "eWWRk1szkbEh",
        "outputId": "fc06c3d7-d450-4f61-8b1d-e3ef79831230"
      },
      "execution_count": 7,
      "outputs": [
        {
          "output_type": "stream",
          "name": "stdout",
          "text": [
            "The variance of dataset is: 113.74\n"
          ]
        }
      ]
    },
    {
      "cell_type": "markdown",
      "source": [
        "d) Standard desviation\n",
        "$$ \\sigma = \\sqrt{ \\frac{ \\sum_{i =1}^{n}{ (x_{i} - μ)^{2}} }{N}} $$"
      ],
      "metadata": {
        "id": "IIVGlsuNk-AC"
      }
    },
    {
      "cell_type": "code",
      "source": [
        "def get_std(data):\n",
        "  variance = get_variance(data)\n",
        "  return variance**(1/2)"
      ],
      "metadata": {
        "id": "iFiYE8iclBAw"
      },
      "execution_count": 8,
      "outputs": []
    },
    {
      "cell_type": "code",
      "source": [
        "std = get_std(data)\n",
        "print(\"The standard desviation of dataset is: {}\".format(round(std,2)))"
      ],
      "metadata": {
        "colab": {
          "base_uri": "https://localhost:8080/"
        },
        "id": "PM90vdIZlO3R",
        "outputId": "98485fad-a8ca-4b60-8e76-6c498b1e45d1"
      },
      "execution_count": 9,
      "outputs": [
        {
          "output_type": "stream",
          "name": "stdout",
          "text": [
            "The standard desviation of dataset is: 10.67\n"
          ]
        }
      ]
    },
    {
      "cell_type": "markdown",
      "source": [
        "e) Median\n",
        "$$ median = \\frac{ x_{n/2} + x_{n/2 + 1} }{2}$$"
      ],
      "metadata": {
        "id": "5yechGwelhwG"
      }
    },
    {
      "cell_type": "code",
      "source": [
        "def get_sorted_array(data):\n",
        "  sorted_array = []\n",
        "  copy_data = []\n",
        "  for i in data:\n",
        "    copy_data.append(i)\n",
        "    \n",
        "  while len(copy_data) > 0:\n",
        "    min_value = min(copy_data)\n",
        "    sorted_array.append(min_value)\n",
        "    copy_data.remove(min_value)\n",
        "  return sorted_array"
      ],
      "metadata": {
        "id": "Ev7m89DonyhB"
      },
      "execution_count": 10,
      "outputs": []
    },
    {
      "cell_type": "code",
      "source": [
        "def get_median(data):\n",
        "  sorted_array = get_sorted_array(data)\n",
        "\n",
        "  if(len(sorted_array)%2 == 0):\n",
        "    inf = int((len(sorted_array)/2) -1) \n",
        "    sup = int(inf + 1)\n",
        "    median = (sorted_array[inf] + sorted_array[sup])/2\n",
        "  else:\n",
        "    n = (len(sorted_array)/2 + 0.5)-1\n",
        "    median = sorted_array[n]\n",
        "\n",
        "  return median"
      ],
      "metadata": {
        "id": "gFvXbktKlg-b"
      },
      "execution_count": 11,
      "outputs": []
    },
    {
      "cell_type": "code",
      "source": [
        "median = get_median(data)\n",
        "print(\"The median of dataset is: {}\".format(round(median,2)))"
      ],
      "metadata": {
        "colab": {
          "base_uri": "https://localhost:8080/"
        },
        "id": "qxsu7Q77XJg7",
        "outputId": "535db99d-8aa8-42b8-ed22-774b811597d4"
      },
      "execution_count": 12,
      "outputs": [
        {
          "output_type": "stream",
          "name": "stdout",
          "text": [
            "The median of dataset is: 29.5\n"
          ]
        }
      ]
    },
    {
      "cell_type": "markdown",
      "source": [
        "f) Mode - The value with most frequency in the dataset\n",
        "\n",
        "\n"
      ],
      "metadata": {
        "id": "7vR2EcoYa60x"
      }
    },
    {
      "cell_type": "code",
      "source": [
        "def get_mode(data):\n",
        "  unique_values = []\n",
        "  for i in data:\n",
        "    if i not in unique_values:\n",
        "      unique_values.append(i)\n",
        "\n",
        "  count_by_element = []\n",
        "  for j in unique_values:\n",
        "    count_by_element.append(data.count(j))\n",
        "\n",
        "  max_value = max(count_by_element)\n",
        "  n_moda = count_by_element.count(max_value)\n",
        "  if (n_moda)>1:\n",
        "    index_moda = []\n",
        "    start_position = 0\n",
        "    contador = 1\n",
        "    while (n_moda - contador) >=0: \n",
        "      index_value = count_by_element.index(max_value,start_position)\n",
        "      index_moda.append(index_value)\n",
        "      start_position = start_position + index_value + 1\n",
        "      contador +=1\n",
        "  else:\n",
        "    index_moda = [count_by_element.index(max_value)]\n",
        "\n",
        "  moda_set = []\n",
        "  for i in index_moda:\n",
        "    moda_set.append(unique_values[i])\n",
        "\n",
        "  return moda_set\n"
      ],
      "metadata": {
        "id": "34VdHgxIa6Dr"
      },
      "execution_count": 13,
      "outputs": []
    },
    {
      "cell_type": "code",
      "source": [
        "moda = get_mode(data)\n",
        "message_moda = ''\n",
        "if len(moda)>1:\n",
        "  for j in moda:\n",
        "    message_moda = message_moda + str(j) + ', '\n",
        "  print(\"The values with most (mode) frequency are : {}\".format(message_moda[:-2]))\n",
        "else:\n",
        "  print(\"La mode of dataset is: {}\".format(moda[0]))"
      ],
      "metadata": {
        "colab": {
          "base_uri": "https://localhost:8080/"
        },
        "id": "GphjOH5nb3Nq",
        "outputId": "8761be0c-9210-4c4f-b031-345a7bdb217a"
      },
      "execution_count": 14,
      "outputs": [
        {
          "output_type": "stream",
          "name": "stdout",
          "text": [
            "The values with most (mode) frequency are : 45, 30\n"
          ]
        }
      ]
    },
    {
      "cell_type": "markdown",
      "source": [
        "**Now, we resolve the same problem using python packages**"
      ],
      "metadata": {
        "id": "zMTh8uM9bDLV"
      }
    },
    {
      "cell_type": "markdown",
      "source": [
        "Import necesary packages"
      ],
      "metadata": {
        "id": "yU5dQIYgcqK7"
      }
    },
    {
      "cell_type": "code",
      "source": [
        "import numpy as np\n",
        "from scipy import stats"
      ],
      "metadata": {
        "id": "KSg4DZbHcaSN"
      },
      "execution_count": 15,
      "outputs": []
    },
    {
      "cell_type": "markdown",
      "source": [
        "a) Mean"
      ],
      "metadata": {
        "id": "f0Zwies0c0Yh"
      }
    },
    {
      "cell_type": "code",
      "source": [
        "print(f'The mean is: {round(np.mean(data),2)}')"
      ],
      "metadata": {
        "colab": {
          "base_uri": "https://localhost:8080/"
        },
        "id": "SxAf1aDTc192",
        "outputId": "0bafcd7e-b404-4531-f8a9-8ca7a0ee90bb"
      },
      "execution_count": 16,
      "outputs": [
        {
          "output_type": "stream",
          "name": "stdout",
          "text": [
            "The mean is: 31.08\n"
          ]
        }
      ]
    },
    {
      "cell_type": "markdown",
      "source": [
        "b) Median"
      ],
      "metadata": {
        "id": "_lekcVrAdQAb"
      }
    },
    {
      "cell_type": "code",
      "source": [
        "print(f'The median is: {round(np.median(data),2)}')"
      ],
      "metadata": {
        "colab": {
          "base_uri": "https://localhost:8080/"
        },
        "id": "0FykOujPdTWS",
        "outputId": "6629d6b2-41a6-42e9-bfa1-377c3a885277"
      },
      "execution_count": 17,
      "outputs": [
        {
          "output_type": "stream",
          "name": "stdout",
          "text": [
            "The median is: 29.5\n"
          ]
        }
      ]
    },
    {
      "cell_type": "markdown",
      "source": [
        "c) Mode"
      ],
      "metadata": {
        "id": "F2P5qwuedgGB"
      }
    },
    {
      "cell_type": "code",
      "source": [
        "print(stats.mode(data))"
      ],
      "metadata": {
        "colab": {
          "base_uri": "https://localhost:8080/"
        },
        "id": "wCXjE_Kydhh9",
        "outputId": "f191c636-042d-40ba-e059-3bb112a43aca"
      },
      "execution_count": 18,
      "outputs": [
        {
          "output_type": "stream",
          "name": "stdout",
          "text": [
            "ModeResult(mode=array([30]), count=array([2]))\n"
          ]
        }
      ]
    },
    {
      "cell_type": "markdown",
      "source": [
        "d) Standard desviation"
      ],
      "metadata": {
        "id": "caOVa69qd0S-"
      }
    },
    {
      "cell_type": "code",
      "source": [
        "print(f'The standard desviation is: {round(np.std(data),2)}')"
      ],
      "metadata": {
        "colab": {
          "base_uri": "https://localhost:8080/"
        },
        "id": "H7vdopx5d5pS",
        "outputId": "6e25bf81-7595-44c4-a53e-ab48cea5a24d"
      },
      "execution_count": 19,
      "outputs": [
        {
          "output_type": "stream",
          "name": "stdout",
          "text": [
            "The standard desviation is: 10.67\n"
          ]
        }
      ]
    },
    {
      "cell_type": "markdown",
      "source": [
        "e) Variance"
      ],
      "metadata": {
        "id": "CXfxcJwveZgC"
      }
    },
    {
      "cell_type": "code",
      "source": [
        "print(f'The standard desviation is: {round(np.std(data)**2,2)}')"
      ],
      "metadata": {
        "colab": {
          "base_uri": "https://localhost:8080/"
        },
        "id": "_B_21E_ieikT",
        "outputId": "e3923e14-69fa-40fe-e9b0-b322b8e0d918"
      },
      "execution_count": 20,
      "outputs": [
        {
          "output_type": "stream",
          "name": "stdout",
          "text": [
            "The standard desviation is: 113.74\n"
          ]
        }
      ]
    }
  ]
}